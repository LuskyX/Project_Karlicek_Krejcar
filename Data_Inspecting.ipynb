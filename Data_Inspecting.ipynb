{
 "cells": [
  {
   "cell_type": "markdown",
   "metadata": {},
   "source": [
    "# Data Processing in Python - Final Project <br>\n",
    "## Vaccination in CR in terms of data <br>\n",
    "### Karlíček Ondřej, Krejcar Vilém"
   ]
  },
  {
   "cell_type": "markdown",
   "metadata": {},
   "source": [
    "# TBD/NÁPADY\n",
    " - propojit ty datasety a udělat třeba efektivitu/vytíženost jednotlivejch očkovacích míst/krajů\n",
    " - podívat se kde jsou ty očkovací místa ne tolik obsazený a proč\n",
    " - podívat se na data a proč je objem vakcinace cca stejnej napíč věkovejma skupinama když se očkování dělá postupně\n",
    "     - nejspíš protože chronicky nemocní apod., idk\n",
    " - udělat jinej náhled na zpracování datasetu po řádcích (nice-to-have)\n",
    " - možná udělat nějakej scraping, abychom zahrnuli více věcí z přednášky\n",
    "     - např. scrapnout z Wiki počet obyvatel v danym kraji a udělat z toho procento kolik už lidí z kraje je naočkováno\n",
    " - mapování očkování po týdnech, časových úsecích a udělat z toho nějakej graf\n",
    "     - např. jak se vyvijí objem očkovaných lidí napříč časem a kde to roste nejvíce apod.\n",
    " - podívat se na grafy ze Seaborn, jsou tam fakt hezký"
   ]
  },
  {
   "cell_type": "code",
   "execution_count": 1,
   "metadata": {},
   "outputs": [],
   "source": [
    "#importing packages needed for the work with data\n",
    "\n",
    "import pandas as pd\n",
    "import numpy as np\n",
    "import requests\n",
    "import matplotlib.pyplot as plt\n",
    "import datetime"
   ]
  },
  {
   "cell_type": "markdown",
   "metadata": {},
   "source": [
    "At first, let's explore dataset with basic information about vaccination in CR:"
   ]
  },
  {
   "cell_type": "code",
   "execution_count": 2,
   "metadata": {},
   "outputs": [
    {
     "data": {
      "text/plain": [
       "Index(['datum', 'vakcina', 'kraj_nuts_kod', 'kraj_nazev', 'vekova_skupina',\n",
       "       'prvnich_davek', 'druhych_davek', 'celkem_davek'],\n",
       "      dtype='object')"
      ]
     },
     "execution_count": 2,
     "metadata": {},
     "output_type": "execute_result"
    }
   ],
   "source": [
    "vaccination = pd.read_csv('https://onemocneni-aktualne.mzcr.cz/api/v2/covid-19/ockovani.csv')\n",
    "vaccination.keys()"
   ]
  },
  {
   "cell_type": "code",
   "execution_count": 3,
   "metadata": {},
   "outputs": [
    {
     "data": {
      "text/html": [
       "<div>\n",
       "<style scoped>\n",
       "    .dataframe tbody tr th:only-of-type {\n",
       "        vertical-align: middle;\n",
       "    }\n",
       "\n",
       "    .dataframe tbody tr th {\n",
       "        vertical-align: top;\n",
       "    }\n",
       "\n",
       "    .dataframe thead th {\n",
       "        text-align: right;\n",
       "    }\n",
       "</style>\n",
       "<table border=\"1\" class=\"dataframe\">\n",
       "  <thead>\n",
       "    <tr style=\"text-align: right;\">\n",
       "      <th></th>\n",
       "      <th>datum</th>\n",
       "      <th>vakcina</th>\n",
       "      <th>kraj_nuts_kod</th>\n",
       "      <th>kraj_nazev</th>\n",
       "      <th>vekova_skupina</th>\n",
       "      <th>prvnich_davek</th>\n",
       "      <th>druhych_davek</th>\n",
       "      <th>celkem_davek</th>\n",
       "    </tr>\n",
       "  </thead>\n",
       "  <tbody>\n",
       "    <tr>\n",
       "      <th>0</th>\n",
       "      <td>2020-12-27</td>\n",
       "      <td>Comirnaty</td>\n",
       "      <td>CZ010</td>\n",
       "      <td>Hlavní město Praha</td>\n",
       "      <td>18-24</td>\n",
       "      <td>48</td>\n",
       "      <td>0</td>\n",
       "      <td>48</td>\n",
       "    </tr>\n",
       "    <tr>\n",
       "      <th>1</th>\n",
       "      <td>2020-12-27</td>\n",
       "      <td>Comirnaty</td>\n",
       "      <td>CZ010</td>\n",
       "      <td>Hlavní město Praha</td>\n",
       "      <td>25-29</td>\n",
       "      <td>109</td>\n",
       "      <td>0</td>\n",
       "      <td>109</td>\n",
       "    </tr>\n",
       "    <tr>\n",
       "      <th>2</th>\n",
       "      <td>2020-12-27</td>\n",
       "      <td>Comirnaty</td>\n",
       "      <td>CZ010</td>\n",
       "      <td>Hlavní město Praha</td>\n",
       "      <td>30-34</td>\n",
       "      <td>102</td>\n",
       "      <td>0</td>\n",
       "      <td>102</td>\n",
       "    </tr>\n",
       "    <tr>\n",
       "      <th>3</th>\n",
       "      <td>2020-12-27</td>\n",
       "      <td>Comirnaty</td>\n",
       "      <td>CZ010</td>\n",
       "      <td>Hlavní město Praha</td>\n",
       "      <td>35-39</td>\n",
       "      <td>111</td>\n",
       "      <td>0</td>\n",
       "      <td>111</td>\n",
       "    </tr>\n",
       "    <tr>\n",
       "      <th>4</th>\n",
       "      <td>2020-12-27</td>\n",
       "      <td>Comirnaty</td>\n",
       "      <td>CZ010</td>\n",
       "      <td>Hlavní město Praha</td>\n",
       "      <td>40-44</td>\n",
       "      <td>172</td>\n",
       "      <td>0</td>\n",
       "      <td>172</td>\n",
       "    </tr>\n",
       "  </tbody>\n",
       "</table>\n",
       "</div>"
      ],
      "text/plain": [
       "        datum    vakcina kraj_nuts_kod          kraj_nazev vekova_skupina  \\\n",
       "0  2020-12-27  Comirnaty         CZ010  Hlavní město Praha          18-24   \n",
       "1  2020-12-27  Comirnaty         CZ010  Hlavní město Praha          25-29   \n",
       "2  2020-12-27  Comirnaty         CZ010  Hlavní město Praha          30-34   \n",
       "3  2020-12-27  Comirnaty         CZ010  Hlavní město Praha          35-39   \n",
       "4  2020-12-27  Comirnaty         CZ010  Hlavní město Praha          40-44   \n",
       "\n",
       "   prvnich_davek  druhych_davek  celkem_davek  \n",
       "0             48              0            48  \n",
       "1            109              0           109  \n",
       "2            102              0           102  \n",
       "3            111              0           111  \n",
       "4            172              0           172  "
      ]
     },
     "execution_count": 3,
     "metadata": {},
     "output_type": "execute_result"
    }
   ],
   "source": [
    "vaccination.head(5)"
   ]
  },
  {
   "cell_type": "code",
   "execution_count": 4,
   "metadata": {},
   "outputs": [
    {
     "data": {
      "text/plain": [
       "0        2020-12-27\n",
       "1        2020-12-27\n",
       "2        2020-12-27\n",
       "3        2020-12-27\n",
       "4        2020-12-27\n",
       "            ...    \n",
       "49141    2021-05-15\n",
       "49142    2021-05-15\n",
       "49143    2021-05-15\n",
       "49144    2021-05-15\n",
       "49145    2021-05-15\n",
       "Name: datum, Length: 49146, dtype: object"
      ]
     },
     "execution_count": 4,
     "metadata": {},
     "output_type": "execute_result"
    }
   ],
   "source": [
    "vaccination['datum']"
   ]
  },
  {
   "cell_type": "code",
   "execution_count": 5,
   "metadata": {},
   "outputs": [
    {
     "data": {
      "text/plain": [
       "vakcina\n",
       "COVID-19 Vaccine Janssen      22576\n",
       "COVID-19 Vaccine Moderna     391354\n",
       "Comirnaty                   3262254\n",
       "VAXZEVRIA                    433987\n",
       "Name: celkem_davek, dtype: int64"
      ]
     },
     "execution_count": 5,
     "metadata": {},
     "output_type": "execute_result"
    }
   ],
   "source": [
    "vaccine_series = vaccination.groupby(\"vakcina\")['celkem_davek'].sum()\n",
    "vaccine_series"
   ]
  },
  {
   "cell_type": "code",
   "execution_count": 6,
   "metadata": {},
   "outputs": [
    {
     "data": {
      "text/plain": [
       "22576"
      ]
     },
     "execution_count": 6,
     "metadata": {},
     "output_type": "execute_result"
    }
   ],
   "source": [
    "vaccine_series[0]"
   ]
  },
  {
   "cell_type": "markdown",
   "metadata": {},
   "source": [
    "Here we can see what the vaccine distribution in CR looks like. For better visualization, we will use a Pie Chart which will give better understanding of numbers. We also renamed the vaccines for people to understand it - they are presented not by their name, but by the name of company which makes them."
   ]
  },
  {
   "cell_type": "markdown",
   "metadata": {},
   "source": [
    "## Important info\n",
    "\n"
   ]
  },
  {
   "cell_type": "markdown",
   "metadata": {},
   "source": [
    "Personally, I have a black theme of Jupyter, thus it is convinient for me to change the labels' colors - it can be changed by simply calling set_theme function - the values are either black/white depending on your theme of Jupyter."
   ]
  },
  {
   "cell_type": "code",
   "execution_count": 7,
   "metadata": {},
   "outputs": [
    {
     "data": {
      "text/plain": [
       "'Theme was set to white.'"
      ]
     },
     "execution_count": 7,
     "metadata": {},
     "output_type": "execute_result"
    }
   ],
   "source": [
    "text_color = \"\"\n",
    "inner_circle_color = \"\"\n",
    "def my_theme(color):\n",
    "    global text_color\n",
    "    global inner_circle_color\n",
    "    if color == \"black\":\n",
    "        text_color = \"white\"\n",
    "        inner_circle_color = \"black\"\n",
    "    elif color == \"white\":\n",
    "        text_color = \"black\"\n",
    "        inner_circle_color = \"white\"\n",
    "    else: \n",
    "        raise ValueError(\"Please choose either black or white color\")\n",
    "    return f\"Theme was set to {color}.\"\n",
    "\n",
    "# my_theme(\"black\")\n",
    "my_theme(\"white\")"
   ]
  },
  {
   "cell_type": "code",
   "execution_count": 8,
   "metadata": {},
   "outputs": [
    {
     "data": {
      "image/png": "[encoded data removed]",
      "text/plain": [
       "<Figure size 432x288 with 1 Axes>"
      ]
     },
     "metadata": {},
     "output_type": "display_data"
    }
   ],
   "source": [
    "labels = [\"Johnson & Johnson\", \"Moderna\", \"Pfizer\", \"ArtraZeneca\"]\n",
    "sizes = [vaccine_series[0], vaccine_series[1], vaccine_series[2], vaccine_series[3]]\n",
    "#colors\n",
    "colors = [\"#66b3ff\", \"#90EE90\", \"#FFFF33\", \"#ff726f\"]\n",
    "#explsion\n",
    "explode = (0.05, 0.05, 0.05, 0.05)\n",
    "fig1, ax1 = plt.subplots()\n",
    "ax1.pie(sizes, colors = colors, labels=labels, autopct=\"%1.1f%%\", startangle=90, textprops={\"color\":text_color}, explode = explode)\n",
    "# we will make a circle\n",
    "centre_circle = plt.Circle((0,0),0.8,fc=inner_circle_color)\n",
    "fig = plt.gcf()\n",
    "fig.gca().add_artist(centre_circle)\n",
    "# equal aspect ratio ensures that pie is drawn as a circle\n",
    "ax1.axis(\"equal\")\n",
    "# in order to remove the unnecessary data\n",
    "plt.tight_layout()"
   ]
  },
  {
   "cell_type": "markdown",
   "metadata": {},
   "source": [
    "Almost a 80% of the doses used in CR are produced by Pfizer, follower by 10% of total vaccines by Moderna and AstraZeneca and small portion of J&J's vaccine forms 0.5%."
   ]
  },
  {
   "cell_type": "code",
   "execution_count": 9,
   "metadata": {},
   "outputs": [
    {
     "data": {
      "text/plain": [
       "vekova_skupina\n",
       "0-17            1600\n",
       "18-24          36367\n",
       "25-29          49414\n",
       "30-34          59836\n",
       "35-39          82254\n",
       "40-44         124720\n",
       "45-49         199557\n",
       "50-54         268505\n",
       "55-59         321305\n",
       "60-64         345712\n",
       "65-69         430253\n",
       "70-74         456611\n",
       "75-79         318657\n",
       "80+           333910\n",
       "nezařazeno        31\n",
       "Name: prvnich_davek, dtype: int64"
      ]
     },
     "execution_count": 9,
     "metadata": {},
     "output_type": "execute_result"
    }
   ],
   "source": [
    "vaccination.groupby(\"vekova_skupina\")['prvnich_davek'].sum()"
   ]
  },
  {
   "cell_type": "markdown",
   "metadata": {},
   "source": [
    "This series shows number of people vaccinated at least with one dose according to the age groups"
   ]
  },
  {
   "cell_type": "code",
   "execution_count": 10,
   "metadata": {
    "scrolled": true
   },
   "outputs": [
    {
     "name": "stdout",
     "output_type": "stream",
     "text": [
      "(17349, 11)\n"
     ]
    },
    {
     "data": {
      "text/html": [
       "<div>\n",
       "<style scoped>\n",
       "    .dataframe tbody tr th:only-of-type {\n",
       "        vertical-align: middle;\n",
       "    }\n",
       "\n",
       "    .dataframe tbody tr th {\n",
       "        vertical-align: top;\n",
       "    }\n",
       "\n",
       "    .dataframe thead th {\n",
       "        text-align: right;\n",
       "    }\n",
       "</style>\n",
       "<table border=\"1\" class=\"dataframe\">\n",
       "  <thead>\n",
       "    <tr style=\"text-align: right;\">\n",
       "      <th></th>\n",
       "      <th>datum</th>\n",
       "      <th>ockovaci_misto_id</th>\n",
       "      <th>ockovaci_misto_nazev</th>\n",
       "      <th>kraj_nuts_kod</th>\n",
       "      <th>kraj_nazev</th>\n",
       "      <th>ockovaci_latka</th>\n",
       "      <th>vyrobce</th>\n",
       "      <th>pouzite_ampulky</th>\n",
       "      <th>znehodnocene_ampulky</th>\n",
       "      <th>pouzite_davky</th>\n",
       "      <th>znehodnocene_davky</th>\n",
       "    </tr>\n",
       "  </thead>\n",
       "  <tbody>\n",
       "    <tr>\n",
       "      <th>0</th>\n",
       "      <td>2020-12-26</td>\n",
       "      <td>0f396137-e1fe-4e67-8291-292e4066376d</td>\n",
       "      <td>FN Brno Výstaviště</td>\n",
       "      <td>CZ064</td>\n",
       "      <td>Jihomoravský kraj</td>\n",
       "      <td>Comirnaty</td>\n",
       "      <td>Pfizer</td>\n",
       "      <td>487</td>\n",
       "      <td>0</td>\n",
       "      <td>2922</td>\n",
       "      <td>0</td>\n",
       "    </tr>\n",
       "    <tr>\n",
       "      <th>1</th>\n",
       "      <td>2020-12-26</td>\n",
       "      <td>9295cb5e-e9ae-4858-97ce-5dadaf99ad72</td>\n",
       "      <td>Všeobecná fakultní nemocnice Praha</td>\n",
       "      <td>CZ010</td>\n",
       "      <td>Hlavní město Praha</td>\n",
       "      <td>Comirnaty</td>\n",
       "      <td>Pfizer</td>\n",
       "      <td>195</td>\n",
       "      <td>0</td>\n",
       "      <td>1170</td>\n",
       "      <td>0</td>\n",
       "    </tr>\n",
       "    <tr>\n",
       "      <th>2</th>\n",
       "      <td>2020-12-27</td>\n",
       "      <td>6ad1717f-2bac-44e6-b7e9-6582da6b6598</td>\n",
       "      <td>Fakultní Nemocnice Bulovka</td>\n",
       "      <td>CZ010</td>\n",
       "      <td>Hlavní město Praha</td>\n",
       "      <td>Comirnaty</td>\n",
       "      <td>Pfizer</td>\n",
       "      <td>42</td>\n",
       "      <td>0</td>\n",
       "      <td>252</td>\n",
       "      <td>0</td>\n",
       "    </tr>\n",
       "    <tr>\n",
       "      <th>3</th>\n",
       "      <td>2020-12-27</td>\n",
       "      <td>b62c5314-15f8-4da2-95f0-0aedd6d11ac2</td>\n",
       "      <td>Nemocnice Na Homolce</td>\n",
       "      <td>CZ010</td>\n",
       "      <td>Hlavní město Praha</td>\n",
       "      <td>Comirnaty</td>\n",
       "      <td>Pfizer</td>\n",
       "      <td>8</td>\n",
       "      <td>0</td>\n",
       "      <td>48</td>\n",
       "      <td>0</td>\n",
       "    </tr>\n",
       "    <tr>\n",
       "      <th>4</th>\n",
       "      <td>2020-12-27</td>\n",
       "      <td>77079458-38f2-4bff-b983-7f99a07afdc3</td>\n",
       "      <td>Fakultní nemocnice v Motole</td>\n",
       "      <td>CZ010</td>\n",
       "      <td>Hlavní město Praha</td>\n",
       "      <td>Comirnaty</td>\n",
       "      <td>Pfizer</td>\n",
       "      <td>77</td>\n",
       "      <td>0</td>\n",
       "      <td>462</td>\n",
       "      <td>0</td>\n",
       "    </tr>\n",
       "  </tbody>\n",
       "</table>\n",
       "</div>"
      ],
      "text/plain": [
       "        datum                     ockovaci_misto_id  \\\n",
       "0  2020-12-26  0f396137-e1fe-4e67-8291-292e4066376d   \n",
       "1  2020-12-26  9295cb5e-e9ae-4858-97ce-5dadaf99ad72   \n",
       "2  2020-12-27  6ad1717f-2bac-44e6-b7e9-6582da6b6598   \n",
       "3  2020-12-27  b62c5314-15f8-4da2-95f0-0aedd6d11ac2   \n",
       "4  2020-12-27  77079458-38f2-4bff-b983-7f99a07afdc3   \n",
       "\n",
       "                 ockovaci_misto_nazev kraj_nuts_kod          kraj_nazev  \\\n",
       "0                  FN Brno Výstaviště         CZ064   Jihomoravský kraj   \n",
       "1  Všeobecná fakultní nemocnice Praha         CZ010  Hlavní město Praha   \n",
       "2          Fakultní Nemocnice Bulovka         CZ010  Hlavní město Praha   \n",
       "3                Nemocnice Na Homolce         CZ010  Hlavní město Praha   \n",
       "4         Fakultní nemocnice v Motole         CZ010  Hlavní město Praha   \n",
       "\n",
       "  ockovaci_latka vyrobce  pouzite_ampulky  znehodnocene_ampulky  \\\n",
       "0      Comirnaty  Pfizer              487                     0   \n",
       "1      Comirnaty  Pfizer              195                     0   \n",
       "2      Comirnaty  Pfizer               42                     0   \n",
       "3      Comirnaty  Pfizer                8                     0   \n",
       "4      Comirnaty  Pfizer               77                     0   \n",
       "\n",
       "   pouzite_davky  znehodnocene_davky  \n",
       "0           2922                   0  \n",
       "1           1170                   0  \n",
       "2            252                   0  \n",
       "3             48                   0  \n",
       "4            462                   0  "
      ]
     },
     "execution_count": 10,
     "metadata": {},
     "output_type": "execute_result"
    }
   ],
   "source": [
    "spotreba_dle_om = pd.DataFrame(pd.read_csv(\"https://onemocneni-aktualne.mzcr.cz/api/v2/covid-19/ockovani-spotreba.csv\"))\n",
    "print(spotreba_dle_om.shape)\n",
    "spotreba_dle_om.head()\n"
   ]
  },
  {
   "cell_type": "code",
   "execution_count": 11,
   "metadata": {},
   "outputs": [
    {
     "data": {
      "text/plain": [
       "ockovaci_latka\n",
       "COVID-19 Vaccine Moderna    10.0\n",
       "Comirnaty                    6.0\n",
       "VAXZEVRIA                   10.0\n",
       "Name: davka_per_ampulka, dtype: float64"
      ]
     },
     "execution_count": 11,
     "metadata": {},
     "output_type": "execute_result"
    }
   ],
   "source": [
    "spotreba_dle_om[\"davka_per_ampulka\"] = spotreba_dle_om[\"pouzite_davky\"]/spotreba_dle_om[\"pouzite_ampulky\"]\n",
    "\n",
    "spotreba_dle_om.groupby(\"ockovaci_latka\")[\"davka_per_ampulka\"].mean()"
   ]
  },
  {
   "cell_type": "markdown",
   "metadata": {},
   "source": [
    "We can see that per one ampule, nurses can vaccinate 6 or 10 people depending on the type of the vaccine manufacturer: <br>\n",
    "    - one ampule of Moderna and AstraZeneca can be split into 10 doses <br>\n",
    "    - one ampule of Pfizer is usually split into 6 doses <br>"
   ]
  },
  {
   "cell_type": "code",
   "execution_count": 12,
   "metadata": {},
   "outputs": [
    {
     "name": "stdout",
     "output_type": "stream",
     "text": [
      "(473721, 10)\n"
     ]
    },
    {
     "data": {
      "text/html": [
       "<div>\n",
       "<style scoped>\n",
       "    .dataframe tbody tr th:only-of-type {\n",
       "        vertical-align: middle;\n",
       "    }\n",
       "\n",
       "    .dataframe tbody tr th {\n",
       "        vertical-align: top;\n",
       "    }\n",
       "\n",
       "    .dataframe thead th {\n",
       "        text-align: right;\n",
       "    }\n",
       "</style>\n",
       "<table border=\"1\" class=\"dataframe\">\n",
       "  <thead>\n",
       "    <tr style=\"text-align: right;\">\n",
       "      <th></th>\n",
       "      <th>datum</th>\n",
       "      <th>ockovaci_misto_id</th>\n",
       "      <th>ockovaci_misto_nazev</th>\n",
       "      <th>kraj_nuts_kod</th>\n",
       "      <th>kraj_nazev</th>\n",
       "      <th>vekova_skupina</th>\n",
       "      <th>povolani</th>\n",
       "      <th>stat</th>\n",
       "      <th>rezervace</th>\n",
       "      <th>datum_rezervace</th>\n",
       "    </tr>\n",
       "  </thead>\n",
       "  <tbody>\n",
       "    <tr>\n",
       "      <th>0</th>\n",
       "      <td>2021-05-15</td>\n",
       "      <td>481dd978-47d9-46a2-a379-84fc06761772</td>\n",
       "      <td>Vsetínská nemocnice a.s.</td>\n",
       "      <td>CZ072</td>\n",
       "      <td>Zlínský kraj</td>\n",
       "      <td>65-69</td>\n",
       "      <td>Na základě dosaženého věku (aktuálně se mohou ...</td>\n",
       "      <td>CZ</td>\n",
       "      <td>NaN</td>\n",
       "      <td>NaN</td>\n",
       "    </tr>\n",
       "    <tr>\n",
       "      <th>1</th>\n",
       "      <td>2021-05-15</td>\n",
       "      <td>ecdde69c-5828-46ca-a973-2ce3cb9ae1b6</td>\n",
       "      <td>Oblastní nemocnice Jičín a.s.</td>\n",
       "      <td>CZ052</td>\n",
       "      <td>Královéhradecký kraj</td>\n",
       "      <td>50-54</td>\n",
       "      <td>Na základě dosaženého věku (aktuálně se mohou ...</td>\n",
       "      <td>CZ</td>\n",
       "      <td>NaN</td>\n",
       "      <td>NaN</td>\n",
       "    </tr>\n",
       "    <tr>\n",
       "      <th>2</th>\n",
       "      <td>2021-05-15</td>\n",
       "      <td>85683ce8-5a0e-4733-b5e3-614d9d4ef335</td>\n",
       "      <td>Nemocnice ve Frýdku-Místku, p.o.</td>\n",
       "      <td>CZ080</td>\n",
       "      <td>Moravskoslezský kraj</td>\n",
       "      <td>45-49</td>\n",
       "      <td>Na základě dosaženého věku (aktuálně se mohou ...</td>\n",
       "      <td>CZ</td>\n",
       "      <td>NaN</td>\n",
       "      <td>NaN</td>\n",
       "    </tr>\n",
       "    <tr>\n",
       "      <th>3</th>\n",
       "      <td>2021-05-15</td>\n",
       "      <td>da5422b1-8002-456c-aa95-9a26a5e0e622</td>\n",
       "      <td>Břeclav Dům školství</td>\n",
       "      <td>CZ064</td>\n",
       "      <td>Jihomoravský kraj</td>\n",
       "      <td>45-49</td>\n",
       "      <td>Na základě dosaženého věku (aktuálně se mohou ...</td>\n",
       "      <td>CZ</td>\n",
       "      <td>NaN</td>\n",
       "      <td>NaN</td>\n",
       "    </tr>\n",
       "    <tr>\n",
       "      <th>4</th>\n",
       "      <td>2021-05-15</td>\n",
       "      <td>ffddf34a-46dc-48a5-ba76-cf1c35339bf2</td>\n",
       "      <td>Nemocnice Neratovice</td>\n",
       "      <td>CZ020</td>\n",
       "      <td>Středočeský kraj</td>\n",
       "      <td>50-54</td>\n",
       "      <td>Na základě dosaženého věku (aktuálně se mohou ...</td>\n",
       "      <td>CZ</td>\n",
       "      <td>NaN</td>\n",
       "      <td>NaN</td>\n",
       "    </tr>\n",
       "  </tbody>\n",
       "</table>\n",
       "</div>"
      ],
      "text/plain": [
       "        datum                     ockovaci_misto_id  \\\n",
       "0  2021-05-15  481dd978-47d9-46a2-a379-84fc06761772   \n",
       "1  2021-05-15  ecdde69c-5828-46ca-a973-2ce3cb9ae1b6   \n",
       "2  2021-05-15  85683ce8-5a0e-4733-b5e3-614d9d4ef335   \n",
       "3  2021-05-15  da5422b1-8002-456c-aa95-9a26a5e0e622   \n",
       "4  2021-05-15  ffddf34a-46dc-48a5-ba76-cf1c35339bf2   \n",
       "\n",
       "               ockovaci_misto_nazev kraj_nuts_kod            kraj_nazev  \\\n",
       "0          Vsetínská nemocnice a.s.         CZ072          Zlínský kraj   \n",
       "1     Oblastní nemocnice Jičín a.s.         CZ052  Královéhradecký kraj   \n",
       "2  Nemocnice ve Frýdku-Místku, p.o.         CZ080  Moravskoslezský kraj   \n",
       "3              Břeclav Dům školství         CZ064     Jihomoravský kraj   \n",
       "4              Nemocnice Neratovice         CZ020      Středočeský kraj   \n",
       "\n",
       "  vekova_skupina                                           povolani stat  \\\n",
       "0          65-69  Na základě dosaženého věku (aktuálně se mohou ...   CZ   \n",
       "1          50-54  Na základě dosaženého věku (aktuálně se mohou ...   CZ   \n",
       "2          45-49  Na základě dosaženého věku (aktuálně se mohou ...   CZ   \n",
       "3          45-49  Na základě dosaženého věku (aktuálně se mohou ...   CZ   \n",
       "4          50-54  Na základě dosaženého věku (aktuálně se mohou ...   CZ   \n",
       "\n",
       "   rezervace datum_rezervace  \n",
       "0        NaN             NaN  \n",
       "1        NaN             NaN  \n",
       "2        NaN             NaN  \n",
       "3        NaN             NaN  \n",
       "4        NaN             NaN  "
      ]
     },
     "execution_count": 12,
     "metadata": {},
     "output_type": "execute_result"
    }
   ],
   "source": [
    "registrace_dle_om = pd.read_csv(\"https://onemocneni-aktualne.mzcr.cz/api/v2/covid-19/ockovani-registrace.csv\")\n",
    "print(registrace_dle_om.shape)\n",
    "registrace_dle_om.head()"
   ]
  },
  {
   "cell_type": "code",
   "execution_count": 13,
   "metadata": {},
   "outputs": [
    {
     "data": {
      "text/plain": [
       "False    361136\n",
       "True     112585\n",
       "Name: datum_rezervace, dtype: int64"
      ]
     },
     "execution_count": 13,
     "metadata": {},
     "output_type": "execute_result"
    }
   ],
   "source": [
    "registrace_dle_om[\"datum_rezervace\"].isna().value_counts()"
   ]
  },
  {
   "cell_type": "code",
   "execution_count": 29,
   "metadata": {},
   "outputs": [
    {
     "data": {
      "text/plain": [
       "0.2376609861078567"
      ]
     },
     "execution_count": 29,
     "metadata": {},
     "output_type": "execute_result"
    }
   ],
   "source": [
    "1-(registrace_dle_om[\"datum_rezervace\"].isna().value_counts()[0]/(registrace_dle_om[\"datum_rezervace\"].isna().value_counts()[0] + registrace_dle_om[\"datum_rezervace\"].isna().value_counts()[1]))"
   ]
  },
  {
   "cell_type": "markdown",
   "metadata": {},
   "source": [
    "Almost 24 per cent of registered people don't have their vaccine reservation. Is it because maybe the reservation system is overflowed."
   ]
  },
  {
   "cell_type": "code",
   "execution_count": 30,
   "metadata": {
    "scrolled": false
   },
   "outputs": [
    {
     "data": {
      "text/html": [
       "<div>\n",
       "<style scoped>\n",
       "    .dataframe tbody tr th:only-of-type {\n",
       "        vertical-align: middle;\n",
       "    }\n",
       "\n",
       "    .dataframe tbody tr th {\n",
       "        vertical-align: top;\n",
       "    }\n",
       "\n",
       "    .dataframe thead th {\n",
       "        text-align: right;\n",
       "    }\n",
       "</style>\n",
       "<table border=\"1\" class=\"dataframe\">\n",
       "  <thead>\n",
       "    <tr style=\"text-align: right;\">\n",
       "      <th></th>\n",
       "      <th>datum</th>\n",
       "      <th>ockovaci_misto_id</th>\n",
       "      <th>ockovaci_misto_nazev</th>\n",
       "      <th>kraj_nuts_kod</th>\n",
       "      <th>kraj_nazev</th>\n",
       "      <th>volna_kapacita</th>\n",
       "      <th>maximalni_kapacita</th>\n",
       "      <th>kalendar_ockovani</th>\n",
       "    </tr>\n",
       "  </thead>\n",
       "  <tbody>\n",
       "    <tr>\n",
       "      <th>0</th>\n",
       "      <td>2021-06-15</td>\n",
       "      <td>ca2ebe9a-25f5-4386-a47a-1def0c83afa5</td>\n",
       "      <td>Nemocnice TGM Hodonín, přísp. organizace Dům k...</td>\n",
       "      <td>CZ064</td>\n",
       "      <td>Jihomoravský kraj</td>\n",
       "      <td>0</td>\n",
       "      <td>722</td>\n",
       "      <td>V2</td>\n",
       "    </tr>\n",
       "    <tr>\n",
       "      <th>1</th>\n",
       "      <td>2021-06-15</td>\n",
       "      <td>af350a27-6433-421b-8eb6-d22b4088c9be</td>\n",
       "      <td>FN Brno - OČM Velké Meziříčí</td>\n",
       "      <td>CZ063</td>\n",
       "      <td>Kraj Vysočina</td>\n",
       "      <td>0</td>\n",
       "      <td>0</td>\n",
       "      <td>VX</td>\n",
       "    </tr>\n",
       "    <tr>\n",
       "      <th>2</th>\n",
       "      <td>2021-06-15</td>\n",
       "      <td>381ef57d-e0e9-4079-a1b9-fd7d476a8aae</td>\n",
       "      <td>Státní zdravotní ústav - budova 11</td>\n",
       "      <td>CZ010</td>\n",
       "      <td>Hlavní město Praha</td>\n",
       "      <td>192</td>\n",
       "      <td>192</td>\n",
       "      <td>V2</td>\n",
       "    </tr>\n",
       "    <tr>\n",
       "      <th>3</th>\n",
       "      <td>2021-06-15</td>\n",
       "      <td>492920f2-e2f6-4d29-9b60-b1ec9924d84d</td>\n",
       "      <td>Nemocnice Kyjov, příspěvková organizace</td>\n",
       "      <td>CZ064</td>\n",
       "      <td>Jihomoravský kraj</td>\n",
       "      <td>0</td>\n",
       "      <td>0</td>\n",
       "      <td>VX</td>\n",
       "    </tr>\n",
       "    <tr>\n",
       "      <th>4</th>\n",
       "      <td>2021-06-15</td>\n",
       "      <td>2c11f28c-f95b-4af0-8fd9-d33b104bafb9</td>\n",
       "      <td>Poliklinika GILMEDA Vratimov</td>\n",
       "      <td>CZ080</td>\n",
       "      <td>Moravskoslezský kraj</td>\n",
       "      <td>0</td>\n",
       "      <td>0</td>\n",
       "      <td>VX</td>\n",
       "    </tr>\n",
       "    <tr>\n",
       "      <th>...</th>\n",
       "      <td>...</td>\n",
       "      <td>...</td>\n",
       "      <td>...</td>\n",
       "      <td>...</td>\n",
       "      <td>...</td>\n",
       "      <td>...</td>\n",
       "      <td>...</td>\n",
       "      <td>...</td>\n",
       "    </tr>\n",
       "    <tr>\n",
       "      <th>112134</th>\n",
       "      <td>2021-01-15</td>\n",
       "      <td>1ddc573d-b6c1-4585-9729-999f36a0a6f1</td>\n",
       "      <td>Avenier a.s. Centrum očkování a cestovní medic...</td>\n",
       "      <td>CZ080</td>\n",
       "      <td>Moravskoslezský kraj</td>\n",
       "      <td>0</td>\n",
       "      <td>0</td>\n",
       "      <td>VX</td>\n",
       "    </tr>\n",
       "    <tr>\n",
       "      <th>112135</th>\n",
       "      <td>2021-01-15</td>\n",
       "      <td>28d59069-2d52-40f5-a2a3-75b0daba1c2f</td>\n",
       "      <td>Masarykova nemocnice Rakovník s.r.o.</td>\n",
       "      <td>CZ020</td>\n",
       "      <td>Středočeský kraj</td>\n",
       "      <td>0</td>\n",
       "      <td>0</td>\n",
       "      <td>VX</td>\n",
       "    </tr>\n",
       "    <tr>\n",
       "      <th>112136</th>\n",
       "      <td>2021-01-15</td>\n",
       "      <td>8facdb9c-6716-4666-ae00-b58f7ccee441</td>\n",
       "      <td>Oblastní nemocnice Trutnov a.s.</td>\n",
       "      <td>CZ052</td>\n",
       "      <td>Královéhradecký kraj</td>\n",
       "      <td>0</td>\n",
       "      <td>0</td>\n",
       "      <td>VX</td>\n",
       "    </tr>\n",
       "    <tr>\n",
       "      <th>112137</th>\n",
       "      <td>2021-01-15</td>\n",
       "      <td>ccccfd3b-1362-49d5-b3b6-b0f71dc6d572</td>\n",
       "      <td>Nemocnice TGM Hodonín</td>\n",
       "      <td>CZ064</td>\n",
       "      <td>Jihomoravský kraj</td>\n",
       "      <td>0</td>\n",
       "      <td>0</td>\n",
       "      <td>VX</td>\n",
       "    </tr>\n",
       "    <tr>\n",
       "      <th>112138</th>\n",
       "      <td>2021-01-15</td>\n",
       "      <td>ec7464b3-cfbd-4e49-8187-5f438f69c731</td>\n",
       "      <td>Kroměřížská nemocnice a.s. - Výstaviště Kroměříž</td>\n",
       "      <td>CZ072</td>\n",
       "      <td>Zlínský kraj</td>\n",
       "      <td>0</td>\n",
       "      <td>0</td>\n",
       "      <td>VX</td>\n",
       "    </tr>\n",
       "  </tbody>\n",
       "</table>\n",
       "<p>112139 rows × 8 columns</p>\n",
       "</div>"
      ],
      "text/plain": [
       "             datum                     ockovaci_misto_id  \\\n",
       "0       2021-06-15  ca2ebe9a-25f5-4386-a47a-1def0c83afa5   \n",
       "1       2021-06-15  af350a27-6433-421b-8eb6-d22b4088c9be   \n",
       "2       2021-06-15  381ef57d-e0e9-4079-a1b9-fd7d476a8aae   \n",
       "3       2021-06-15  492920f2-e2f6-4d29-9b60-b1ec9924d84d   \n",
       "4       2021-06-15  2c11f28c-f95b-4af0-8fd9-d33b104bafb9   \n",
       "...            ...                                   ...   \n",
       "112134  2021-01-15  1ddc573d-b6c1-4585-9729-999f36a0a6f1   \n",
       "112135  2021-01-15  28d59069-2d52-40f5-a2a3-75b0daba1c2f   \n",
       "112136  2021-01-15  8facdb9c-6716-4666-ae00-b58f7ccee441   \n",
       "112137  2021-01-15  ccccfd3b-1362-49d5-b3b6-b0f71dc6d572   \n",
       "112138  2021-01-15  ec7464b3-cfbd-4e49-8187-5f438f69c731   \n",
       "\n",
       "                                     ockovaci_misto_nazev kraj_nuts_kod  \\\n",
       "0       Nemocnice TGM Hodonín, přísp. organizace Dům k...         CZ064   \n",
       "1                            FN Brno - OČM Velké Meziříčí         CZ063   \n",
       "2                      Státní zdravotní ústav - budova 11         CZ010   \n",
       "3                 Nemocnice Kyjov, příspěvková organizace         CZ064   \n",
       "4                            Poliklinika GILMEDA Vratimov         CZ080   \n",
       "...                                                   ...           ...   \n",
       "112134  Avenier a.s. Centrum očkování a cestovní medic...         CZ080   \n",
       "112135               Masarykova nemocnice Rakovník s.r.o.         CZ020   \n",
       "112136                    Oblastní nemocnice Trutnov a.s.         CZ052   \n",
       "112137                              Nemocnice TGM Hodonín         CZ064   \n",
       "112138   Kroměřížská nemocnice a.s. - Výstaviště Kroměříž         CZ072   \n",
       "\n",
       "                  kraj_nazev  volna_kapacita  maximalni_kapacita  \\\n",
       "0          Jihomoravský kraj               0                 722   \n",
       "1              Kraj Vysočina               0                   0   \n",
       "2         Hlavní město Praha             192                 192   \n",
       "3          Jihomoravský kraj               0                   0   \n",
       "4       Moravskoslezský kraj               0                   0   \n",
       "...                      ...             ...                 ...   \n",
       "112134  Moravskoslezský kraj               0                   0   \n",
       "112135      Středočeský kraj               0                   0   \n",
       "112136  Královéhradecký kraj               0                   0   \n",
       "112137     Jihomoravský kraj               0                   0   \n",
       "112138          Zlínský kraj               0                   0   \n",
       "\n",
       "       kalendar_ockovani  \n",
       "0                     V2  \n",
       "1                     VX  \n",
       "2                     V2  \n",
       "3                     VX  \n",
       "4                     VX  \n",
       "...                  ...  \n",
       "112134                VX  \n",
       "112135                VX  \n",
       "112136                VX  \n",
       "112137                VX  \n",
       "112138                VX  \n",
       "\n",
       "[112139 rows x 8 columns]"
      ]
     },
     "execution_count": 30,
     "metadata": {},
     "output_type": "execute_result"
    }
   ],
   "source": [
    "rezervace = pd.read_csv(\"https://onemocneni-aktualne.mzcr.cz/api/v2/covid-19/ockovani-rezervace.csv\")\n",
    "rezervace"
   ]
  },
  {
   "cell_type": "code",
   "execution_count": 45,
   "metadata": {},
   "outputs": [
    {
     "name": "stdout",
     "output_type": "stream",
     "text": [
      "Number of days without maximum capacity\n"
     ]
    },
    {
     "data": {
      "text/plain": [
       "ockovaci_misto_nazev\n",
       "Fakultní nemocnice v Motole                                              56\n",
       "Fakultní Thomayerova nemocnice                                           39\n",
       "FN Ostrava - Černá Louka Výstaviště                                      35\n",
       "Nemocnice Vrchlabí, s.r.o.                                               32\n",
       "Oblastní nemocnice Mladá Boleslav                                        31\n",
       "                                                                         ..\n",
       "SZZ II Brno, p. o., Poliklinika Zahradníkova                              0\n",
       "Sanatorium Jablunkov, a.s.                                                0\n",
       "Slatinné lázně Toušeň - Bulovka                                           0\n",
       "EUC klinika Ostrava                                                       0\n",
       "Nemocnice Milosrdných bratří, p.o., mobilní očkovací tým Zahradníkova     0\n",
       "Name: volna_kapacita, Length: 296, dtype: int64"
      ]
     },
     "execution_count": 45,
     "metadata": {},
     "output_type": "execute_result"
    }
   ],
   "source": [
    "print(\"Number of days without maximum capacity\")\n",
    "rezervace.groupby('ockovaci_misto_nazev')['volna_kapacita'].aggregate(lambda x: sum(x > 0)).sort_values(ascending=False)"
   ]
  }
 ],
 "metadata": {
  "kernelspec": {
   "display_name": "Python 3",
   "language": "python",
   "name": "python3"
  },
  "language_info": {
   "codemirror_mode": {
    "name": "ipython",
    "version": 3
   },
   "file_extension": ".py",
   "mimetype": "text/x-python",
   "name": "python",
   "nbconvert_exporter": "python",
   "pygments_lexer": "ipython3",
   "version": "3.8.3"
  }
 },
 "nbformat": 4,
 "nbformat_minor": 4
}
