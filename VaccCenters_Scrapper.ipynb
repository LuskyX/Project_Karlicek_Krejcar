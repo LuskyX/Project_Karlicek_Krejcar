{
 "cells": [
  {
   "cell_type": "markdown",
   "id": "438893fc",
   "metadata": {},
   "source": [
    "# Vaccination center scraper\n",
    "\n",
    "We want to scrap information about vaccination centers from https://ockoreport.uzis.cz/\n",
    "\n",
    "Currently we present only example for 'Fakultní Nemocnice Bulovka'"
   ]
  },
  {
   "cell_type": "code",
   "execution_count": 1,
   "id": "cb76c43b",
   "metadata": {},
   "outputs": [],
   "source": [
    "import requests\n",
    "from bs4 import BeautifulSoup\n",
    "import pandas as pd\n",
    "# import re\n",
    "import numpy as np"
   ]
  },
  {
   "cell_type": "markdown",
   "id": "0f91b7d8",
   "metadata": {},
   "source": [
    "#### dict for regions\n",
    "\n",
    "TODO: add remaining regions"
   ]
  },
  {
   "cell_type": "code",
   "execution_count": 2,
   "id": "77982e67",
   "metadata": {},
   "outputs": [],
   "source": [
    "regions = {\"Praha\": \"Hlavn%C3%AD+m%C4%9Bsto+Praha\"}"
   ]
  },
  {
   "cell_type": "markdown",
   "id": "448fbb19",
   "metadata": {},
   "source": [
    "#### getting data from https://ockoreport.uzis.cz/ for Prague"
   ]
  },
  {
   "cell_type": "code",
   "execution_count": 3,
   "id": "eb831f75",
   "metadata": {},
   "outputs": [],
   "source": [
    "praha_html = requests.get(f\"https://ockoreport.uzis.cz/Report/FilterRegion?filterRegion={regions['Praha']}\").text.strip()"
   ]
  },
  {
   "cell_type": "code",
   "execution_count": 4,
   "id": "f07af87c",
   "metadata": {},
   "outputs": [],
   "source": [
    "praha_soup = BeautifulSoup(praha_html)\n",
    "praha_centers = praha_soup.select('div[class=list] > a')"
   ]
  },
  {
   "cell_type": "markdown",
   "id": "b57ff80d",
   "metadata": {},
   "source": [
    "#### obtaining links for all vaccination centers in Prague"
   ]
  },
  {
   "cell_type": "code",
   "execution_count": 5,
   "id": "de121f78",
   "metadata": {},
   "outputs": [],
   "source": [
    "praha_links = [\"https://ockoreport.uzis.cz\" + link['href'] for link in praha_centers]"
   ]
  },
  {
   "cell_type": "code",
   "execution_count": 6,
   "id": "bb0dc410",
   "metadata": {},
   "outputs": [
    {
     "data": {
      "text/plain": [
       "'https://ockoreport.uzis.cz/Detail?guid=6ad1717f-2bac-44e6-b7e9-6582da6b6598'"
      ]
     },
     "execution_count": 6,
     "metadata": {},
     "output_type": "execute_result"
    }
   ],
   "source": [
    "praha_links[9]"
   ]
  },
  {
   "cell_type": "markdown",
   "id": "101a3a2b",
   "metadata": {},
   "source": [
    "#### requesting data from page for 'Fakultní Nemocnice Bulovka'"
   ]
  },
  {
   "cell_type": "code",
   "execution_count": 7,
   "id": "da726166",
   "metadata": {},
   "outputs": [],
   "source": [
    "bulovka_html = requests.get(praha_links[9]).text.strip()"
   ]
  },
  {
   "cell_type": "code",
   "execution_count": 8,
   "id": "be06bf30",
   "metadata": {},
   "outputs": [],
   "source": [
    "bulovka_soup = BeautifulSoup(bulovka_html)\n",
    "# bulovka_soup"
   ]
  },
  {
   "cell_type": "markdown",
   "id": "17d5da07",
   "metadata": {},
   "source": [
    "#### obtaining name of vaccination center"
   ]
  },
  {
   "cell_type": "code",
   "execution_count": 9,
   "id": "6695df63",
   "metadata": {},
   "outputs": [
    {
     "data": {
      "text/plain": [
       "'Fakultní Nemocnice Bulovka, Budínova 67/2, Praha 8 - Libeň'"
      ]
     },
     "execution_count": 9,
     "metadata": {},
     "output_type": "execute_result"
    }
   ],
   "source": [
    "vacc_center_name = bulovka_soup.select_one('div[class=detail] > div[class=detail__main] > h1').text\n",
    "vacc_center_name"
   ]
  },
  {
   "cell_type": "markdown",
   "id": "3bd9b3bc",
   "metadata": {},
   "source": [
    "#### obtaining data with basic info about the center"
   ]
  },
  {
   "cell_type": "code",
   "execution_count": 10,
   "id": "8f336ba2",
   "metadata": {},
   "outputs": [
    {
     "data": {
      "text/plain": [
       "[<tr>\n",
       " <td>Adresa</td>\n",
       " <td>Budínova 67/2, 18000 Praha 8 - Libeň</td>\n",
       " </tr>, <tr>\n",
       " <td>Upřesnění polohy</td>\n",
       " <td>Budova č. 7, 2. patro</td>\n",
       " </tr>, <tr>\n",
       " <td>Telefon</td>\n",
       " <td><a href=\"tel:734397747\">734397747</a></td>\n",
       " </tr>, <tr>\n",
       " <td>Email</td>\n",
       " <td><a href=\"mailto:ockovanicovid@bulovka.cz\">ockovanicovid@bulovka.cz</a></td>\n",
       " </tr>, <tr>\n",
       " <td>Poznámka</td>\n",
       " <td>Očkovací centrum Fakultní nemocnice Bulovka se nachází v budově č. 7 pavilon infekce. \n",
       " Objednávání probíhá přes stránky registrace.mzcr.cz</td>\n",
       " </tr>, <tr>\n",
       " <td>Denní kapacita očkování</td>\n",
       " <td>510</td>\n",
       " </tr>]"
      ]
     },
     "execution_count": 10,
     "metadata": {},
     "output_type": "execute_result"
    }
   ],
   "source": [
    "bulovka_table_info = bulovka_soup.select('div[class=info] > table > tbody > tr')\n",
    "bulovka_table_info"
   ]
  },
  {
   "cell_type": "code",
   "execution_count": 11,
   "id": "33ddec58",
   "metadata": {},
   "outputs": [
    {
     "data": {
      "text/plain": [
       "{'Adresa': 'Budínova 67/2, 18000 Praha 8 - Libeň',\n",
       " 'Upřesnění polohy': 'Budova č. 7, 2. patro',\n",
       " 'Telefon': '734397747',\n",
       " 'Email': 'ockovanicovid@bulovka.cz',\n",
       " 'Poznámka': 'Očkovací centrum Fakultní nemocnice Bulovka se nachází v budově č. 7 pavilon infekce. Objednávání probíhá přes stránky registrace.mzcr.cz',\n",
       " 'Denní kapacita očkování': '510'}"
      ]
     },
     "execution_count": 11,
     "metadata": {},
     "output_type": "execute_result"
    }
   ],
   "source": [
    "bulovka_info = {i.select_one('td:nth-child(1)').text : i.select_one('td:nth-child(2)').text.replace(\"\\r\\n\", \"\")\n",
    "                for i in bulovka_table_info}\n",
    "bulovka_info"
   ]
  },
  {
   "cell_type": "markdown",
   "id": "24e4f0c7",
   "metadata": {},
   "source": [
    "#### obtaining open hours for the given center"
   ]
  },
  {
   "cell_type": "code",
   "execution_count": 12,
   "id": "b9777ccc",
   "metadata": {},
   "outputs": [
    {
     "data": {
      "text/plain": [
       "[<tr>\n",
       " <td>Pondělí</td>\n",
       " <td>\n",
       " <p>07:00    - 15:00   </p>\n",
       " </td>\n",
       " </tr>, <tr>\n",
       " <td>Úterý</td>\n",
       " <td>\n",
       " <p>07:00    - 15:00   </p>\n",
       " </td>\n",
       " </tr>, <tr>\n",
       " <td>Středa</td>\n",
       " <td>\n",
       " <p>07:00    - 15:00   </p>\n",
       " </td>\n",
       " </tr>, <tr>\n",
       " <td>Čtvrtek</td>\n",
       " <td>\n",
       " <p>07:00    - 15:00   </p>\n",
       " </td>\n",
       " </tr>, <tr>\n",
       " <td>Pátek</td>\n",
       " <td>\n",
       " <p>07:00    - 15:00   </p>\n",
       " </td>\n",
       " </tr>, <tr>\n",
       " <td>Sobota</td>\n",
       " <td>\n",
       " <p>07:00    - 19:00   </p>\n",
       " </td>\n",
       " </tr>, <tr>\n",
       " <td>Neděle</td>\n",
       " <td>\n",
       " <p>07:00    - 19:00   </p>\n",
       " </td>\n",
       " </tr>]"
      ]
     },
     "execution_count": 12,
     "metadata": {},
     "output_type": "execute_result"
    }
   ],
   "source": [
    "bulovka_open_table = bulovka_soup.select('div[class=detail__aside] > div[class=opening] > table > tbody > tr')\n",
    "bulovka_open_table"
   ]
  },
  {
   "cell_type": "code",
   "execution_count": 13,
   "id": "4e56f9bd",
   "metadata": {},
   "outputs": [
    {
     "data": {
      "text/plain": [
       "{'Pondělí': '07:00-15:00',\n",
       " 'Úterý': '07:00-15:00',\n",
       " 'Středa': '07:00-15:00',\n",
       " 'Čtvrtek': '07:00-15:00',\n",
       " 'Pátek': '07:00-15:00',\n",
       " 'Sobota': '07:00-19:00',\n",
       " 'Neděle': '07:00-19:00'}"
      ]
     },
     "execution_count": 13,
     "metadata": {},
     "output_type": "execute_result"
    }
   ],
   "source": [
    "bulovka_open_hours = {i.select_one('td:nth-child(1)').text : i.select_one('td:nth-child(2)').text.strip().replace(\" \", \"\")\n",
    "                     for i in bulovka_open_table}\n",
    "bulovka_open_hours"
   ]
  },
  {
   "cell_type": "markdown",
   "id": "0519c88a",
   "metadata": {},
   "source": [
    "#### adding everything into the DataFrame"
   ]
  },
  {
   "cell_type": "code",
   "execution_count": 14,
   "id": "d6333961",
   "metadata": {},
   "outputs": [
    {
     "data": {
      "text/html": [
       "<div>\n",
       "<style scoped>\n",
       "    .dataframe tbody tr th:only-of-type {\n",
       "        vertical-align: middle;\n",
       "    }\n",
       "\n",
       "    .dataframe tbody tr th {\n",
       "        vertical-align: top;\n",
       "    }\n",
       "\n",
       "    .dataframe thead th {\n",
       "        text-align: right;\n",
       "    }\n",
       "</style>\n",
       "<table border=\"1\" class=\"dataframe\">\n",
       "  <thead>\n",
       "    <tr style=\"text-align: right;\">\n",
       "      <th></th>\n",
       "      <th>info</th>\n",
       "    </tr>\n",
       "  </thead>\n",
       "  <tbody>\n",
       "    <tr>\n",
       "      <th>Očkovací místo</th>\n",
       "      <td>Fakultní Nemocnice Bulovka, Budínova 67/2, Pra...</td>\n",
       "    </tr>\n",
       "    <tr>\n",
       "      <th>Adresa</th>\n",
       "      <td>Budínova 67/2, 18000 Praha 8 - Libeň</td>\n",
       "    </tr>\n",
       "    <tr>\n",
       "      <th>Upřesnění polohy</th>\n",
       "      <td>Budova č. 7, 2. patro</td>\n",
       "    </tr>\n",
       "    <tr>\n",
       "      <th>Telefon</th>\n",
       "      <td>734397747</td>\n",
       "    </tr>\n",
       "    <tr>\n",
       "      <th>Email</th>\n",
       "      <td>ockovanicovid@bulovka.cz</td>\n",
       "    </tr>\n",
       "    <tr>\n",
       "      <th>Poznámka</th>\n",
       "      <td>Očkovací centrum Fakultní nemocnice Bulovka se...</td>\n",
       "    </tr>\n",
       "    <tr>\n",
       "      <th>Denní kapacita očkování</th>\n",
       "      <td>510</td>\n",
       "    </tr>\n",
       "    <tr>\n",
       "      <th>Pondělí</th>\n",
       "      <td>07:00-15:00</td>\n",
       "    </tr>\n",
       "    <tr>\n",
       "      <th>Úterý</th>\n",
       "      <td>07:00-15:00</td>\n",
       "    </tr>\n",
       "    <tr>\n",
       "      <th>Středa</th>\n",
       "      <td>07:00-15:00</td>\n",
       "    </tr>\n",
       "    <tr>\n",
       "      <th>Čtvrtek</th>\n",
       "      <td>07:00-15:00</td>\n",
       "    </tr>\n",
       "    <tr>\n",
       "      <th>Pátek</th>\n",
       "      <td>07:00-15:00</td>\n",
       "    </tr>\n",
       "    <tr>\n",
       "      <th>Sobota</th>\n",
       "      <td>07:00-19:00</td>\n",
       "    </tr>\n",
       "    <tr>\n",
       "      <th>Neděle</th>\n",
       "      <td>07:00-19:00</td>\n",
       "    </tr>\n",
       "  </tbody>\n",
       "</table>\n",
       "</div>"
      ],
      "text/plain": [
       "                                                                      info\n",
       "Očkovací místo           Fakultní Nemocnice Bulovka, Budínova 67/2, Pra...\n",
       "Adresa                                Budínova 67/2, 18000 Praha 8 - Libeň\n",
       "Upřesnění polohy                                     Budova č. 7, 2. patro\n",
       "Telefon                                                          734397747\n",
       "Email                                             ockovanicovid@bulovka.cz\n",
       "Poznámka                 Očkovací centrum Fakultní nemocnice Bulovka se...\n",
       "Denní kapacita očkování                                                510\n",
       "Pondělí                                                        07:00-15:00\n",
       "Úterý                                                          07:00-15:00\n",
       "Středa                                                         07:00-15:00\n",
       "Čtvrtek                                                        07:00-15:00\n",
       "Pátek                                                          07:00-15:00\n",
       "Sobota                                                         07:00-19:00\n",
       "Neděle                                                         07:00-19:00"
      ]
     },
     "execution_count": 14,
     "metadata": {},
     "output_type": "execute_result"
    }
   ],
   "source": [
    "df_bulovka = pd.DataFrame(data=[vacc_center_name], index=[\"Očkovací místo\"], columns=[\"info\"])\n",
    "\n",
    "df_info = pd.DataFrame.from_dict(bulovka_info, orient='index', columns=['info'])\n",
    "df_open_hours = pd.DataFrame.from_dict(bulovka_open_hours, orient='index', columns=['info'])\n",
    "\n",
    "df_bulovka = df_bulovka.append(df_info).append(df_open_hours)\n",
    "df_bulovka"
   ]
  }
 ],
 "metadata": {
  "kernelspec": {
   "display_name": "Python 3",
   "language": "python",
   "name": "python3"
  },
  "language_info": {
   "codemirror_mode": {
    "name": "ipython",
    "version": 3
   },
   "file_extension": ".py",
   "mimetype": "text/x-python",
   "name": "python",
   "nbconvert_exporter": "python",
   "pygments_lexer": "ipython3",
   "version": "3.8.3"
  }
 },
 "nbformat": 4,
 "nbformat_minor": 5
}
