{
 "cells": [
  {
   "cell_type": "markdown",
   "metadata": {},
   "source": [
    "# Vaccination center scraper\n",
    "\n",
    "We want to scrap information about vaccination centers from https://ockoreport.uzis.cz/\n",
    "\n",
    "Currently we present only example for 'Fakultní Nemocnice Bulovka'"
   ]
  },
  {
   "cell_type": "code",
   "execution_count": 1,
   "metadata": {},
   "outputs": [],
   "source": [
    "import requests\n",
    "from bs4 import BeautifulSoup\n",
    "import pandas as pd\n",
    "# import re\n",
    "import numpy as np"
   ]
  },
  {
   "cell_type": "markdown",
   "metadata": {},
   "source": [
    "#### List of regions"
   ]
  },
  {
   "cell_type": "code",
   "execution_count": 89,
   "metadata": {},
   "outputs": [],
   "source": [
    "regions = [\"Hlavní+město+Praha\",\n",
    "        \"Jihočeský\",\n",
    "        \"Jihomoravský\",\n",
    "        \"Karlovarský\",\n",
    "        \"Liberecký\",\n",
    "        \"Moravskoslezský\",\n",
    "        \"Olomoucký\",\n",
    "        \"Pardubický\",\n",
    "        \"Plzeňský\",\n",
    "        \"Středočeský\",\n",
    "        \"Ústecký\", \n",
    "        \"Vysočina\", \n",
    "        \"Zlínský\",\n",
    "        \"Královehradecký\"]"
   ]
  },
  {
   "cell_type": "markdown",
   "metadata": {},
   "source": [
    "#### Getting data from https://ockoreport.uzis.cz/ for all the regions"
   ]
  },
  {
   "cell_type": "code",
   "execution_count": 94,
   "metadata": {},
   "outputs": [],
   "source": [
    "def get_regions_om(regs) -> list:\n",
    "    \"\"\"\n",
    "    Scrapes a link for every vaccination point in CR.\n",
    "    Input : A list of regions' names\n",
    "    Output : A list of links\n",
    "    \"\"\"\n",
    "    links = []\n",
    "    for kraj in regs:\n",
    "        centers = BeautifulSoup(requests.get(f\"https://ockoreport.uzis.cz/Report/FilterRegion?filterRegion={kraj}\").text.strip()).select('div[class=list] >a')\n",
    "        links += [\"https://ockoreport.uzis.cz\" + link['href'] for link in centers]\n",
    "    return links"
   ]
  },
  {
   "cell_type": "markdown",
   "metadata": {},
   "source": [
    "#### requesting data from page for 'Fakultní Nemocnice Bulovka'"
   ]
  },
  {
   "cell_type": "code",
   "execution_count": 95,
   "metadata": {},
   "outputs": [],
   "source": [
    "links = get_regions_om(regions)\n",
    "bulovka_html = requests.get(links[9]).text.strip()"
   ]
  },
  {
   "cell_type": "code",
   "execution_count": 96,
   "metadata": {},
   "outputs": [],
   "source": [
    "bulovka_soup = BeautifulSoup(bulovka_html)\n",
    "# bulovka_soup"
   ]
  },
  {
   "cell_type": "markdown",
   "metadata": {},
   "source": [
    "#### obtaining name of vaccination center"
   ]
  },
  {
   "cell_type": "code",
   "execution_count": 97,
   "metadata": {},
   "outputs": [
    {
     "data": {
      "text/plain": [
       "'Fakultní Nemocnice Bulovka, Budínova 67/2, Praha 8 - Libeň'"
      ]
     },
     "execution_count": 97,
     "metadata": {},
     "output_type": "execute_result"
    }
   ],
   "source": [
    "vacc_center_name = bulovka_soup.select_one('div[class=detail] > div[class=detail__main] > h1').text\n",
    "vacc_center_name"
   ]
  },
  {
   "cell_type": "markdown",
   "metadata": {},
   "source": [
    "#### Obtaining basic info about the center"
   ]
  },
  {
   "cell_type": "code",
   "execution_count": 98,
   "metadata": {},
   "outputs": [
    {
     "data": {
      "text/plain": [
       "[<tr>\n",
       " <td>Adresa</td>\n",
       " <td>Budínova 67/2, 18000 Praha 8 - Libeň</td>\n",
       " </tr>,\n",
       " <tr>\n",
       " <td>Upřesnění polohy</td>\n",
       " <td>Budova č. 7, 2. patro</td>\n",
       " </tr>,\n",
       " <tr>\n",
       " <td>Telefon</td>\n",
       " <td><a href=\"tel:734397747\">734397747</a></td>\n",
       " </tr>,\n",
       " <tr>\n",
       " <td>Email</td>\n",
       " <td><a href=\"mailto:ockovanicovid@bulovka.cz\">ockovanicovid@bulovka.cz</a></td>\n",
       " </tr>,\n",
       " <tr>\n",
       " <td>Poznámka</td>\n",
       " <td>Očkovací centrum Fakultní nemocnice Bulovka se nachází v budově č. 7 pavilon infekce. \n",
       " Objednávání probíhá přes stránky registrace.mzcr.cz</td>\n",
       " </tr>,\n",
       " <tr>\n",
       " <td>Denní kapacita očkování</td>\n",
       " <td>510</td>\n",
       " </tr>]"
      ]
     },
     "execution_count": 98,
     "metadata": {},
     "output_type": "execute_result"
    }
   ],
   "source": [
    "bulovka_table_info = bulovka_soup.select('div[class=info] > table > tbody > tr')\n",
    "bulovka_table_info"
   ]
  },
  {
   "cell_type": "code",
   "execution_count": 99,
   "metadata": {},
   "outputs": [
    {
     "data": {
      "text/plain": [
       "{'Adresa': 'Budínova 67/2, 18000 Praha 8 - Libeň',\n",
       " 'Upřesnění polohy': 'Budova č. 7, 2. patro',\n",
       " 'Telefon': '734397747',\n",
       " 'Email': 'ockovanicovid@bulovka.cz',\n",
       " 'Poznámka': 'Očkovací centrum Fakultní nemocnice Bulovka se nachází v budově č. 7 pavilon infekce. Objednávání probíhá přes stránky registrace.mzcr.cz',\n",
       " 'Denní kapacita očkování': '510'}"
      ]
     },
     "execution_count": 99,
     "metadata": {},
     "output_type": "execute_result"
    }
   ],
   "source": [
    "bulovka_info = {i.select_one('td:nth-child(1)').text : i.select_one('td:nth-child(2)').text.replace(\"\\r\\n\", \"\")\n",
    "                for i in bulovka_table_info}\n",
    "bulovka_info"
   ]
  },
  {
   "cell_type": "markdown",
   "metadata": {},
   "source": [
    "#### Obtaining opening hours for the given center"
   ]
  },
  {
   "cell_type": "code",
   "execution_count": 100,
   "metadata": {},
   "outputs": [
    {
     "data": {
      "text/plain": [
       "[<tr>\n",
       " <td>Pondělí</td>\n",
       " <td>\n",
       " <p>07:00    - 15:00   </p>\n",
       " </td>\n",
       " </tr>,\n",
       " <tr>\n",
       " <td>Úterý</td>\n",
       " <td>\n",
       " <p>07:00    - 15:00   </p>\n",
       " </td>\n",
       " </tr>,\n",
       " <tr>\n",
       " <td>Středa</td>\n",
       " <td>\n",
       " <p>07:00    - 15:00   </p>\n",
       " </td>\n",
       " </tr>,\n",
       " <tr>\n",
       " <td>Čtvrtek</td>\n",
       " <td>\n",
       " <p>07:00    - 15:00   </p>\n",
       " </td>\n",
       " </tr>,\n",
       " <tr>\n",
       " <td>Pátek</td>\n",
       " <td>\n",
       " <p>07:00    - 15:00   </p>\n",
       " </td>\n",
       " </tr>,\n",
       " <tr>\n",
       " <td>Sobota</td>\n",
       " <td>\n",
       " <p>07:00    - 19:00   </p>\n",
       " </td>\n",
       " </tr>,\n",
       " <tr>\n",
       " <td>Neděle</td>\n",
       " <td>\n",
       " <p>07:00    - 19:00   </p>\n",
       " </td>\n",
       " </tr>]"
      ]
     },
     "execution_count": 100,
     "metadata": {},
     "output_type": "execute_result"
    }
   ],
   "source": [
    "bulovka_open_table = bulovka_soup.select('div[class=detail__aside] > div[class=opening] > table > tbody > tr')\n",
    "bulovka_open_table"
   ]
  },
  {
   "cell_type": "code",
   "execution_count": 101,
   "metadata": {},
   "outputs": [
    {
     "data": {
      "text/plain": [
       "{'Pondělí': '07:00-15:00',\n",
       " 'Úterý': '07:00-15:00',\n",
       " 'Středa': '07:00-15:00',\n",
       " 'Čtvrtek': '07:00-15:00',\n",
       " 'Pátek': '07:00-15:00',\n",
       " 'Sobota': '07:00-19:00',\n",
       " 'Neděle': '07:00-19:00'}"
      ]
     },
     "execution_count": 101,
     "metadata": {},
     "output_type": "execute_result"
    }
   ],
   "source": [
    "bulovka_open_hours = {i.select_one('td:nth-child(1)').text : i.select_one('td:nth-child(2)').text.strip().replace(\" \", \"\")\n",
    "                     for i in bulovka_open_table}\n",
    "bulovka_open_hours"
   ]
  },
  {
   "cell_type": "markdown",
   "metadata": {},
   "source": [
    "#### adding everything into the DataFrame"
   ]
  },
  {
   "cell_type": "code",
   "execution_count": 72,
   "metadata": {},
   "outputs": [
    {
     "data": {
      "text/html": [
       "<div>\n",
       "<style scoped>\n",
       "    .dataframe tbody tr th:only-of-type {\n",
       "        vertical-align: middle;\n",
       "    }\n",
       "\n",
       "    .dataframe tbody tr th {\n",
       "        vertical-align: top;\n",
       "    }\n",
       "\n",
       "    .dataframe thead th {\n",
       "        text-align: right;\n",
       "    }\n",
       "</style>\n",
       "<table border=\"1\" class=\"dataframe\">\n",
       "  <thead>\n",
       "    <tr style=\"text-align: right;\">\n",
       "      <th></th>\n",
       "      <th>info</th>\n",
       "    </tr>\n",
       "  </thead>\n",
       "  <tbody>\n",
       "    <tr>\n",
       "      <th>Očkovací místo</th>\n",
       "      <td>Sportovní hala Gymnázia Chotěboř</td>\n",
       "    </tr>\n",
       "    <tr>\n",
       "      <th>Adresa</th>\n",
       "      <td>Jiráskova 637, Chotěboř</td>\n",
       "    </tr>\n",
       "    <tr>\n",
       "      <th>Upřesnění polohy</th>\n",
       "      <td>Sportovní hala Gymnázia Chotěboř</td>\n",
       "    </tr>\n",
       "    <tr>\n",
       "      <th>Telefon</th>\n",
       "      <td></td>\n",
       "    </tr>\n",
       "    <tr>\n",
       "      <th>Email</th>\n",
       "      <td></td>\n",
       "    </tr>\n",
       "    <tr>\n",
       "      <th>Poznámka</th>\n",
       "      <td>Očkovací centrum Chotěboř, se nachází v budově...</td>\n",
       "    </tr>\n",
       "    <tr>\n",
       "      <th>Denní kapacita očkování</th>\n",
       "      <td>120</td>\n",
       "    </tr>\n",
       "    <tr>\n",
       "      <th>Pondělí</th>\n",
       "      <td>Zavřeno</td>\n",
       "    </tr>\n",
       "    <tr>\n",
       "      <th>Úterý</th>\n",
       "      <td>12:00-20:00</td>\n",
       "    </tr>\n",
       "    <tr>\n",
       "      <th>Středa</th>\n",
       "      <td>12:00-20:00</td>\n",
       "    </tr>\n",
       "    <tr>\n",
       "      <th>Čtvrtek</th>\n",
       "      <td>12:00-20:00</td>\n",
       "    </tr>\n",
       "    <tr>\n",
       "      <th>Pátek</th>\n",
       "      <td>12:00-20:00</td>\n",
       "    </tr>\n",
       "    <tr>\n",
       "      <th>Sobota</th>\n",
       "      <td>08:00-16:00</td>\n",
       "    </tr>\n",
       "    <tr>\n",
       "      <th>Neděle</th>\n",
       "      <td>Zavřeno</td>\n",
       "    </tr>\n",
       "  </tbody>\n",
       "</table>\n",
       "</div>"
      ],
      "text/plain": [
       "                                                                      info\n",
       "Očkovací místo                            Sportovní hala Gymnázia Chotěboř\n",
       "Adresa                                             Jiráskova 637, Chotěboř\n",
       "Upřesnění polohy                          Sportovní hala Gymnázia Chotěboř\n",
       "Telefon                                                                   \n",
       "Email                                                                     \n",
       "Poznámka                 Očkovací centrum Chotěboř, se nachází v budově...\n",
       "Denní kapacita očkování                                                120\n",
       "Pondělí                                                            Zavřeno\n",
       "Úterý                                                          12:00-20:00\n",
       "Středa                                                         12:00-20:00\n",
       "Čtvrtek                                                        12:00-20:00\n",
       "Pátek                                                          12:00-20:00\n",
       "Sobota                                                         08:00-16:00\n",
       "Neděle                                                             Zavřeno"
      ]
     },
     "execution_count": 72,
     "metadata": {},
     "output_type": "execute_result"
    }
   ],
   "source": [
    "df_bulovka = pd.DataFrame(data=[vacc_center_name], index=[\"Očkovací místo\"], columns=[\"info\"])\n",
    "\n",
    "df_info = pd.DataFrame.from_dict(bulovka_info, orient='index', columns=['info'])\n",
    "df_open_hours = pd.DataFrame.from_dict(bulovka_open_hours, orient='index', columns=['info'])\n",
    "\n",
    "df_bulovka = df_bulovka.append(df_info).append(df_open_hours)\n",
    "df_bulovka"
   ]
  }
 ],
 "metadata": {
  "kernelspec": {
   "display_name": "Python 3",
   "language": "python",
   "name": "python3"
  },
  "language_info": {
   "codemirror_mode": {
    "name": "ipython",
    "version": 3
   },
   "file_extension": ".py",
   "mimetype": "text/x-python",
   "name": "python",
   "nbconvert_exporter": "python",
   "pygments_lexer": "ipython3",
   "version": "3.8.5"
  }
 },
 "nbformat": 4,
 "nbformat_minor": 5
}
